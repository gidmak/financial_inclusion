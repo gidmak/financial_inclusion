{
 "cells": [
  {
   "cell_type": "markdown",
   "id": "e940b410",
   "metadata": {},
   "source": [
    "# Zindi Competion on Financial Inclusion in Africa"
   ]
  },
  {
   "cell_type": "markdown",
   "id": "b75e77fe",
   "metadata": {},
   "source": [
    "### The objective include the following:\n",
    "    * Load the data set\n",
    "    * Exploratory Data Analysis\n",
    "    * Preprocessing and Wrangling\n",
    "    * Model creation\n",
    "    * Result communication"
   ]
  },
  {
   "cell_type": "markdown",
   "id": "4327cb50",
   "metadata": {},
   "source": [
    "## Import libraries"
   ]
  },
  {
   "cell_type": "code",
   "execution_count": 27,
   "id": "4270fb9d",
   "metadata": {},
   "outputs": [],
   "source": [
    "import pandas as pd\n",
    "import numpy as np\n",
    "import matplotlib.pyplot as plt\n",
    "import seaborn as sns"
   ]
  },
  {
   "cell_type": "markdown",
   "id": "1f1ff946",
   "metadata": {},
   "source": [
    "## 1. Loading the Dataset"
   ]
  },
  {
   "cell_type": "code",
   "execution_count": 28,
   "id": "65a30dc2",
   "metadata": {},
   "outputs": [],
   "source": [
    "df_train = pd.read_csv(\"train.csv\")\n",
    "df_test = pd.read_csv(\"test.csv\")\n",
    "df_variables = pd.read_csv(\"VariableDefinitions.csv\")\n",
    "df_sample_sub = pd.read_csv(\"SampleSubmission.csv\")"
   ]
  },
  {
   "cell_type": "code",
   "execution_count": 29,
   "id": "65c98155",
   "metadata": {},
   "outputs": [
    {
     "name": "stdout",
     "output_type": "stream",
     "text": [
      "Train dataset:  (23524, 13)\n",
      "Train dataset:  (10086, 12)\n"
     ]
    }
   ],
   "source": [
    "# Inspect the Datasets\n",
    "print(\"Train dataset: \",df_train.shape)\n",
    "print(\"Train dataset: \",df_test.shape)"
   ]
  },
  {
   "cell_type": "markdown",
   "id": "19ed8265",
   "metadata": {},
   "source": [
    "What the above shows us is that there are 13 features or columns and 23524 rows in the train data set while in the test dataset there are 12 columns and 10086 rows. This means 12 features in the train dataset are independent and 1 is dependent."
   ]
  },
  {
   "cell_type": "code",
   "execution_count": 30,
   "id": "19ddec79",
   "metadata": {},
   "outputs": [
    {
     "data": {
      "text/html": [
       "<div>\n",
       "<style scoped>\n",
       "    .dataframe tbody tr th:only-of-type {\n",
       "        vertical-align: middle;\n",
       "    }\n",
       "\n",
       "    .dataframe tbody tr th {\n",
       "        vertical-align: top;\n",
       "    }\n",
       "\n",
       "    .dataframe thead th {\n",
       "        text-align: right;\n",
       "    }\n",
       "</style>\n",
       "<table border=\"1\" class=\"dataframe\">\n",
       "  <thead>\n",
       "    <tr style=\"text-align: right;\">\n",
       "      <th></th>\n",
       "      <th>country</th>\n",
       "      <th>year</th>\n",
       "      <th>uniqueid</th>\n",
       "      <th>bank_account</th>\n",
       "      <th>location_type</th>\n",
       "      <th>cellphone_access</th>\n",
       "      <th>household_size</th>\n",
       "      <th>age_of_respondent</th>\n",
       "      <th>gender_of_respondent</th>\n",
       "      <th>relationship_with_head</th>\n",
       "      <th>marital_status</th>\n",
       "      <th>education_level</th>\n",
       "      <th>job_type</th>\n",
       "    </tr>\n",
       "  </thead>\n",
       "  <tbody>\n",
       "    <tr>\n",
       "      <th>0</th>\n",
       "      <td>Kenya</td>\n",
       "      <td>2018</td>\n",
       "      <td>uniqueid_1</td>\n",
       "      <td>Yes</td>\n",
       "      <td>Rural</td>\n",
       "      <td>Yes</td>\n",
       "      <td>3</td>\n",
       "      <td>24</td>\n",
       "      <td>Female</td>\n",
       "      <td>Spouse</td>\n",
       "      <td>Married/Living together</td>\n",
       "      <td>Secondary education</td>\n",
       "      <td>Self employed</td>\n",
       "    </tr>\n",
       "    <tr>\n",
       "      <th>1</th>\n",
       "      <td>Kenya</td>\n",
       "      <td>2018</td>\n",
       "      <td>uniqueid_2</td>\n",
       "      <td>No</td>\n",
       "      <td>Rural</td>\n",
       "      <td>No</td>\n",
       "      <td>5</td>\n",
       "      <td>70</td>\n",
       "      <td>Female</td>\n",
       "      <td>Head of Household</td>\n",
       "      <td>Widowed</td>\n",
       "      <td>No formal education</td>\n",
       "      <td>Government Dependent</td>\n",
       "    </tr>\n",
       "    <tr>\n",
       "      <th>2</th>\n",
       "      <td>Kenya</td>\n",
       "      <td>2018</td>\n",
       "      <td>uniqueid_3</td>\n",
       "      <td>Yes</td>\n",
       "      <td>Urban</td>\n",
       "      <td>Yes</td>\n",
       "      <td>5</td>\n",
       "      <td>26</td>\n",
       "      <td>Male</td>\n",
       "      <td>Other relative</td>\n",
       "      <td>Single/Never Married</td>\n",
       "      <td>Vocational/Specialised training</td>\n",
       "      <td>Self employed</td>\n",
       "    </tr>\n",
       "    <tr>\n",
       "      <th>3</th>\n",
       "      <td>Kenya</td>\n",
       "      <td>2018</td>\n",
       "      <td>uniqueid_4</td>\n",
       "      <td>No</td>\n",
       "      <td>Rural</td>\n",
       "      <td>Yes</td>\n",
       "      <td>5</td>\n",
       "      <td>34</td>\n",
       "      <td>Female</td>\n",
       "      <td>Head of Household</td>\n",
       "      <td>Married/Living together</td>\n",
       "      <td>Primary education</td>\n",
       "      <td>Formally employed Private</td>\n",
       "    </tr>\n",
       "    <tr>\n",
       "      <th>4</th>\n",
       "      <td>Kenya</td>\n",
       "      <td>2018</td>\n",
       "      <td>uniqueid_5</td>\n",
       "      <td>No</td>\n",
       "      <td>Urban</td>\n",
       "      <td>No</td>\n",
       "      <td>8</td>\n",
       "      <td>26</td>\n",
       "      <td>Male</td>\n",
       "      <td>Child</td>\n",
       "      <td>Single/Never Married</td>\n",
       "      <td>Primary education</td>\n",
       "      <td>Informally employed</td>\n",
       "    </tr>\n",
       "  </tbody>\n",
       "</table>\n",
       "</div>"
      ],
      "text/plain": [
       "  country  year    uniqueid bank_account location_type cellphone_access  \\\n",
       "0   Kenya  2018  uniqueid_1          Yes         Rural              Yes   \n",
       "1   Kenya  2018  uniqueid_2           No         Rural               No   \n",
       "2   Kenya  2018  uniqueid_3          Yes         Urban              Yes   \n",
       "3   Kenya  2018  uniqueid_4           No         Rural              Yes   \n",
       "4   Kenya  2018  uniqueid_5           No         Urban               No   \n",
       "\n",
       "   household_size  age_of_respondent gender_of_respondent  \\\n",
       "0               3                 24               Female   \n",
       "1               5                 70               Female   \n",
       "2               5                 26                 Male   \n",
       "3               5                 34               Female   \n",
       "4               8                 26                 Male   \n",
       "\n",
       "  relationship_with_head           marital_status  \\\n",
       "0                 Spouse  Married/Living together   \n",
       "1      Head of Household                  Widowed   \n",
       "2         Other relative     Single/Never Married   \n",
       "3      Head of Household  Married/Living together   \n",
       "4                  Child     Single/Never Married   \n",
       "\n",
       "                   education_level                   job_type  \n",
       "0              Secondary education              Self employed  \n",
       "1              No formal education       Government Dependent  \n",
       "2  Vocational/Specialised training              Self employed  \n",
       "3                Primary education  Formally employed Private  \n",
       "4                Primary education        Informally employed  "
      ]
     },
     "execution_count": 30,
     "metadata": {},
     "output_type": "execute_result"
    }
   ],
   "source": [
    "# Observe the top five rows of the dataset\n",
    "df_train.head()"
   ]
  },
  {
   "cell_type": "code",
   "execution_count": null,
   "id": "98202227",
   "metadata": {},
   "outputs": [],
   "source": []
  },
  {
   "cell_type": "code",
   "execution_count": 31,
   "id": "fd21accd",
   "metadata": {},
   "outputs": [
    {
     "name": "stdout",
     "output_type": "stream",
     "text": [
      "<class 'pandas.core.frame.DataFrame'>\n",
      "RangeIndex: 23524 entries, 0 to 23523\n",
      "Data columns (total 13 columns):\n",
      " #   Column                  Non-Null Count  Dtype \n",
      "---  ------                  --------------  ----- \n",
      " 0   country                 23524 non-null  object\n",
      " 1   year                    23524 non-null  int64 \n",
      " 2   uniqueid                23524 non-null  object\n",
      " 3   bank_account            23524 non-null  object\n",
      " 4   location_type           23524 non-null  object\n",
      " 5   cellphone_access        23524 non-null  object\n",
      " 6   household_size          23524 non-null  int64 \n",
      " 7   age_of_respondent       23524 non-null  int64 \n",
      " 8   gender_of_respondent    23524 non-null  object\n",
      " 9   relationship_with_head  23524 non-null  object\n",
      " 10  marital_status          23524 non-null  object\n",
      " 11  education_level         23524 non-null  object\n",
      " 12  job_type                23524 non-null  object\n",
      "dtypes: int64(3), object(10)\n",
      "memory usage: 2.3+ MB\n"
     ]
    }
   ],
   "source": [
    "# Display additional information about the dataset\n",
    "df_train.info()"
   ]
  },
  {
   "cell_type": "markdown",
   "id": "8b5e199f",
   "metadata": {},
   "source": [
    "This shows the datatype of all the features in the train dataset. It also shows that we do not have any null values in the dataset."
   ]
  },
  {
   "cell_type": "code",
   "execution_count": 32,
   "id": "0196549b",
   "metadata": {},
   "outputs": [
    {
     "name": "stdout",
     "output_type": "stream",
     "text": [
      "Missing values:  country                   0\n",
      "year                      0\n",
      "uniqueid                  0\n",
      "bank_account              0\n",
      "location_type             0\n",
      "cellphone_access          0\n",
      "household_size            0\n",
      "age_of_respondent         0\n",
      "gender_of_respondent      0\n",
      "relationship_with_head    0\n",
      "marital_status            0\n",
      "education_level           0\n",
      "job_type                  0\n",
      "dtype: int64\n"
     ]
    }
   ],
   "source": [
    "# Check for missing values\n",
    "print(\"Missing values: \", df_train.isnull().sum())"
   ]
  },
  {
   "cell_type": "markdown",
   "id": "b1f704a1",
   "metadata": {},
   "source": [
    "This confirms that we don't have null values in the dataset"
   ]
  },
  {
   "cell_type": "markdown",
   "id": "ced48a35",
   "metadata": {},
   "source": [
    "## 2. Exploratory Data Analysis"
   ]
  },
  {
   "cell_type": "markdown",
   "id": "1e70c83b",
   "metadata": {},
   "source": [
    "Explore the dataset to uncover relevant insights"
   ]
  },
  {
   "cell_type": "code",
   "execution_count": 61,
   "id": "2add23be",
   "metadata": {},
   "outputs": [
    {
     "name": "stdout",
     "output_type": "stream",
     "text": [
      "No     20212\n",
      "Yes     3312\n",
      "Name: bank_account, dtype: int64\n"
     ]
    }
   ],
   "source": [
    "# Get more insight on the target distribution\n",
    "bank_account = df_train[\"bank_account\"].value_counts()\n",
    "print(bank_account)"
   ]
  },
  {
   "cell_type": "code",
   "execution_count": 62,
   "id": "fa393b7b",
   "metadata": {},
   "outputs": [
    {
     "name": "stdout",
     "output_type": "stream",
     "text": [
      "No     85.920762\n",
      "Yes    14.079238\n",
      "Name: bank_account, dtype: float64\n"
     ]
    }
   ],
   "source": [
    "# Bank account owners percentage\n",
    "bank_account_percentage = (bank_account / len(df_train)) * 100\n",
    "print(bank_account_percentage)"
   ]
  },
  {
   "cell_type": "code",
   "execution_count": 63,
   "id": "6de95185",
   "metadata": {},
   "outputs": [
    {
     "data": {
      "image/png": "[encoded data removed]",
      "text/plain": [
       "<Figure size 640x480 with 1 Axes>"
      ]
     },
     "metadata": {},
     "output_type": "display_data"
    }
   ],
   "source": [
    "df_train[\"bank_account\"].value_counts().plot(kind='pie')\n",
    "plt.show()"
   ]
  },
  {
   "cell_type": "markdown",
   "id": "7c2eee15",
   "metadata": {},
   "source": [
    "It is clear that majority of the people do not have a bank account as high as 85%."
   ]
  },
  {
   "cell_type": "code",
   "execution_count": 88,
   "id": "f040a96f",
   "metadata": {},
   "outputs": [
    {
     "name": "stdout",
     "output_type": "stream",
     "text": [
      "Rural    60.971774\n",
      "Urban    39.028226\n",
      "Name: location_type, dtype: float64\n"
     ]
    }
   ],
   "source": [
    "# Lets explore the location type\n",
    "location_type = df_train[\"location_type\"].value_counts()\n",
    "location_type_percentage = (location_type / len(df_train)) * 100\n",
    "\n",
    "print(location_type_percentage)"
   ]
  },
  {
   "cell_type": "code",
   "execution_count": 75,
   "id": "9443e204",
   "metadata": {},
   "outputs": [
    {
     "data": {
      "image/png": "[encoded data removed]",
      "text/plain": [
       "<Figure size 640x480 with 1 Axes>"
      ]
     },
     "metadata": {},
     "output_type": "display_data"
    }
   ],
   "source": [
    "location_type.plot(kind='pie')\n",
    "plt.show()"
   ]
  },
  {
   "cell_type": "markdown",
   "id": "2bbcdf43",
   "metadata": {},
   "source": [
    "This shows the majority of the respondents are from the rural area taking up 60% while those in the urban area are 40%."
   ]
  },
  {
   "cell_type": "code",
   "execution_count": 91,
   "id": "469917ab",
   "metadata": {},
   "outputs": [
    {
     "name": "stdout",
     "output_type": "stream",
     "text": [
      "Female    58.990818\n",
      "Male      41.009182\n",
      "Name: gender_of_respondent, dtype: float64\n"
     ]
    }
   ],
   "source": [
    "# Gender distribution\n",
    "gender = df_train['gender_of_respondent'].value_counts()\n",
    "gender_percentage = (gender / len(df_train)) * 100\n",
    "print(gender_percentage)"
   ]
  },
  {
   "cell_type": "code",
   "execution_count": 93,
   "id": "28b1e94d",
   "metadata": {},
   "outputs": [
    {
     "data": {
      "image/png": "[encoded data removed]",
      "text/plain": [
       "<Figure size 640x480 with 1 Axes>"
      ]
     },
     "metadata": {},
     "output_type": "display_data"
    }
   ],
   "source": [
    "gender.plot(kind=\"pie\")\n",
    "plt.show()"
   ]
  },
  {
   "cell_type": "code",
   "execution_count": null,
   "id": "c41be56e",
   "metadata": {},
   "outputs": [],
   "source": []
  },
  {
   "cell_type": "markdown",
   "id": "588d0572",
   "metadata": {},
   "source": [
    "So almost 60% of the respondents are female while about 40 are male. This means that more women were interviewed than men."
   ]
  },
  {
   "cell_type": "code",
   "execution_count": 79,
   "id": "1fcfd057",
   "metadata": {},
   "outputs": [
    {
     "name": "stdout",
     "output_type": "stream",
     "text": [
      "Kenya\n",
      "Rwanda\n",
      "Tanzania\n",
      "Uganda\n"
     ]
    }
   ],
   "source": [
    "# Countries are represented in the data set\n",
    "for c in df_train[\"country\"].unique():\n",
    "    print(c)"
   ]
  },
  {
   "cell_type": "code",
   "execution_count": 85,
   "id": "c7d2927c",
   "metadata": {},
   "outputs": [
    {
     "name": "stdout",
     "output_type": "stream",
     "text": [
      "Rwanda      8735\n",
      "Tanzania    6620\n",
      "Kenya       6068\n",
      "Uganda      2101\n",
      "Name: country, dtype: int64\n",
      "Rwanda      37.132290\n",
      "Tanzania    28.141473\n",
      "Kenya       25.794933\n",
      "Uganda       8.931304\n",
      "Name: country, dtype: float64\n"
     ]
    }
   ],
   "source": [
    "# Number of people per country\n",
    "people_per_country = df_train[\"country\"].value_counts()\n",
    "percent_of_people_per_country = (people_per_country / len(df_train)) * 100\n",
    "print(people_per_country)\n",
    "print(percent_of_people_per_country)"
   ]
  },
  {
   "cell_type": "code",
   "execution_count": 87,
   "id": "06ab0df8",
   "metadata": {},
   "outputs": [
    {
     "data": {
      "image/png": "[encoded data removed]",
      "text/plain": [
       "<Figure size 640x480 with 1 Axes>"
      ]
     },
     "metadata": {},
     "output_type": "display_data"
    }
   ],
   "source": [
    "people_per_country.plot(kind='bar')\n",
    "plt.show()"
   ]
  },
  {
   "cell_type": "markdown",
   "id": "759f6eb2",
   "metadata": {},
   "source": [
    "So there are four countries represented. Lets visualize how they are represented. Majority of the people, consituting 37% are from Rwanda while the least represented are Uganda with just about 9%. Tanzania and Kenya are closely tied with 28% and 25% apiece."
   ]
  },
  {
   "cell_type": "code",
   "execution_count": 94,
   "id": "da679755",
   "metadata": {},
   "outputs": [
    {
     "name": "stdout",
     "output_type": "stream",
     "text": [
      "Yes    74.196565\n",
      "No     25.803435\n",
      "Name: cellphone_access, dtype: float64\n"
     ]
    }
   ],
   "source": [
    "# Lets explore more on cellphone access\n",
    "cellphone_access = df_train[\"cellphone_access\"].value_counts()\n",
    "cellphone_access_percentage = (cellphone_access / len(df_train)) * 100\n",
    "print(cellphone_access_percentage)"
   ]
  },
  {
   "cell_type": "code",
   "execution_count": 96,
   "id": "4912b0c4",
   "metadata": {},
   "outputs": [
    {
     "data": {
      "image/png": "[encoded data removed]",
      "text/plain": [
       "<Figure size 640x480 with 1 Axes>"
      ]
     },
     "metadata": {},
     "output_type": "display_data"
    }
   ],
   "source": [
    "cellphone_access.plot(kind='pie')\n",
    "plt.show()"
   ]
  },
  {
   "cell_type": "markdown",
   "id": "1966cfd3",
   "metadata": {},
   "source": [
    "We can see that majority of the respondents have access to cellphones. Only about a quarter do not."
   ]
  },
  {
   "cell_type": "code",
   "execution_count": null,
   "id": "c5ca1359",
   "metadata": {},
   "outputs": [],
   "source": []
  }
 ],
 "metadata": {
  "kernelspec": {
   "display_name": "Python 3 (ipykernel)",
   "language": "python",
   "name": "python3"
  },
  "language_info": {
   "codemirror_mode": {
    "name": "ipython",
    "version": 3
   },
   "file_extension": ".py",
   "mimetype": "text/x-python",
   "name": "python",
   "nbconvert_exporter": "python",
   "pygments_lexer": "ipython3",
   "version": "3.9.13"
  }
 },
 "nbformat": 4,
 "nbformat_minor": 5
}
